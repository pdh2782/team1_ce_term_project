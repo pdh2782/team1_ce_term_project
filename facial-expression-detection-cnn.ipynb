{
 "cells": [
  {
   "cell_type": "code",
   "execution_count": 0,
   "metadata": {
    "_cell_guid": "b1076dfc-b9ad-4769-8c92-a6c4dae69d19",
    "_uuid": "8f2839f25d086af736a60e9eeb907d3b93b6e0e5",
    "colab": {
     "base_uri": "https://localhost:8080/",
     "height": 35
    },
    "colab_type": "code",
    "executionInfo": {
     "elapsed": 2346,
     "status": "ok",
     "timestamp": 1575817022938,
     "user": {
      "displayName": "이승환",
      "photoUrl": "",
      "userId": "07608969336004037929"
     },
     "user_tz": -540
    },
    "id": "DsspmBNg_qMI",
    "outputId": "3ea2aa08-a358-471b-938a-2782696c344e"
   },
   "outputs": [
    {
     "name": "stdout",
     "output_type": "stream",
     "text": [
      "Drive already mounted at /content/drive; to attempt to forcibly remount, call drive.mount(\"/content/drive\", force_remount=True).\n"
     ]
    }
   ],
   "source": [
    "#구글 드라이브 마운트\n",
    "#원본 주소 https://www.kaggle.com/shawon10/facial-expression-detection-cnn\n",
    "from google.colab import drive\n",
    "drive.mount('/content/drive')\n",
    "#Drive mount"
   ]
  },
  {
   "cell_type": "code",
   "execution_count": 0,
   "metadata": {
    "colab": {},
    "colab_type": "code",
    "id": "ehE-nApwFPKP"
   },
   "outputs": [],
   "source": [
    "#기초 library 호출\n",
    "\n",
    "# This Python 3 environment comes with many helpful analytics libraries installed\n",
    "# It is defined by the kaggle/python docker image: https://github.com/kaggle/docker-python\n",
    "# For example, here's several helpful packages to load in \n",
    "import numpy as np # linear algebra\n",
    "import pandas as pd # data processing, CSV file I/O (e.g. pd.read_csv)\n",
    "# Input data files are available in the \"../input/\" directory.\n",
    "# For example, running this (by clicking run or pressing Shift+Enter) will list the files in the input directory\n",
    "import os\n",
    "import tensorflow as tf\n",
    "import keras\n",
    "from keras.models import Sequential\n",
    "from keras.layers import Conv2D, MaxPooling2D, AveragePooling2D\n",
    "from keras.layers import Dense, Activation, Dropout, Flatten\n",
    "from keras.preprocessing import image\n",
    "from keras.preprocessing.image import ImageDataGenerator\n",
    "import pandas as pd\n",
    "import numpy as np\n",
    "import matplotlib.pyplot as plt\n",
    "#from keras.layers.convolutional import Conv2D\n",
    "#from keras.layers.convolutional import MaxPooling2D\n",
    "from keras.metrics import categorical_accuracy\n",
    "from keras.models import model_from_json\n",
    "from keras.callbacks import ModelCheckpoint\n",
    "from keras.optimizers import *\n",
    "from keras.layers.normalization import BatchNormalization\n"
   ]
  },
  {
   "cell_type": "code",
   "execution_count": 0,
   "metadata": {
    "colab": {
     "base_uri": "https://localhost:8080/",
     "height": 35
    },
    "colab_type": "code",
    "executionInfo": {
     "elapsed": 1013,
     "status": "ok",
     "timestamp": 1575817043906,
     "user": {
      "displayName": "이승환",
      "photoUrl": "",
      "userId": "07608969336004037929"
     },
     "user_tz": -540
    },
    "id": "rnku8iw5F2Fr",
    "outputId": "66bee1a6-7c2c-4840-836f-52957c325f70"
   },
   "outputs": [
    {
     "data": {
      "text/plain": [
       "'/content/drive/My Drive/Colab Notebooks/facial-expression'"
      ]
     },
     "execution_count": 17,
     "metadata": {
      "tags": []
     },
     "output_type": "execute_result"
    }
   ],
   "source": [
    "#path 설정해야하는 부분\n",
    "#os.listdir('.')\n",
    "#os.chdir('drive/My Drive/Colab Notebooks/facial-expression')\n",
    "os.getcwd()\n",
    "# directory 설정"
   ]
  },
  {
   "cell_type": "code",
   "execution_count": 0,
   "metadata": {
    "colab": {
     "base_uri": "https://localhost:8080/",
     "height": 35
    },
    "colab_type": "code",
    "executionInfo": {
     "elapsed": 2244,
     "status": "ok",
     "timestamp": 1575817051193,
     "user": {
      "displayName": "이승환",
      "photoUrl": "",
      "userId": "07608969336004037929"
     },
     "user_tz": -540
    },
    "id": "Ixk25TQ_JnrD",
    "outputId": "5664a9bf-b682-474f-a4a9-f5380ba971b1"
   },
   "outputs": [
    {
     "data": {
      "text/plain": [
       "['fer2013', 'fer2013.csv', 'happy.PNG', 'IMG_1135.PNG', 'model_filter.h5']"
      ]
     },
     "execution_count": 18,
     "metadata": {
      "tags": []
     },
     "output_type": "execute_result"
    }
   ],
   "source": [
    "#설정한 path의 하위폴더 확인\n",
    "os.listdir()"
   ]
  },
  {
   "cell_type": "code",
   "execution_count": 0,
   "metadata": {
    "_uuid": "87965c894d3b7f3b3dfc66d8c2a60efcc08a370d",
    "colab": {
     "base_uri": "https://localhost:8080/",
     "height": 359
    },
    "colab_type": "code",
    "executionInfo": {
     "elapsed": 4385,
     "status": "ok",
     "timestamp": 1575817056893,
     "user": {
      "displayName": "이승환",
      "photoUrl": "",
      "userId": "07608969336004037929"
     },
     "user_tz": -540
    },
    "id": "YiEoRIsQ_qMZ",
    "outputId": "65e2f87b-1bdd-436b-9711-04c45e36ac43"
   },
   "outputs": [
    {
     "data": {
      "text/html": [
       "<div>\n",
       "<style scoped>\n",
       "    .dataframe tbody tr th:only-of-type {\n",
       "        vertical-align: middle;\n",
       "    }\n",
       "\n",
       "    .dataframe tbody tr th {\n",
       "        vertical-align: top;\n",
       "    }\n",
       "\n",
       "    .dataframe thead th {\n",
       "        text-align: right;\n",
       "    }\n",
       "</style>\n",
       "<table border=\"1\" class=\"dataframe\">\n",
       "  <thead>\n",
       "    <tr style=\"text-align: right;\">\n",
       "      <th></th>\n",
       "      <th>emotion</th>\n",
       "      <th>pixels</th>\n",
       "      <th>usage</th>\n",
       "    </tr>\n",
       "  </thead>\n",
       "  <tbody>\n",
       "    <tr>\n",
       "      <th>0</th>\n",
       "      <td>emotion</td>\n",
       "      <td>pixels</td>\n",
       "      <td>Usage</td>\n",
       "    </tr>\n",
       "    <tr>\n",
       "      <th>1</th>\n",
       "      <td>0</td>\n",
       "      <td>70 80 82 72 58 58 60 63 54 58 60 48 89 115 121...</td>\n",
       "      <td>Training</td>\n",
       "    </tr>\n",
       "    <tr>\n",
       "      <th>2</th>\n",
       "      <td>0</td>\n",
       "      <td>151 150 147 155 148 133 111 140 170 174 182 15...</td>\n",
       "      <td>Training</td>\n",
       "    </tr>\n",
       "    <tr>\n",
       "      <th>3</th>\n",
       "      <td>2</td>\n",
       "      <td>231 212 156 164 174 138 161 173 182 200 106 38...</td>\n",
       "      <td>Training</td>\n",
       "    </tr>\n",
       "    <tr>\n",
       "      <th>4</th>\n",
       "      <td>4</td>\n",
       "      <td>24 32 36 30 32 23 19 20 30 41 21 22 32 34 21 1...</td>\n",
       "      <td>Training</td>\n",
       "    </tr>\n",
       "    <tr>\n",
       "      <th>5</th>\n",
       "      <td>6</td>\n",
       "      <td>4 0 0 0 0 0 0 0 0 0 0 0 3 15 23 28 48 50 58 84...</td>\n",
       "      <td>Training</td>\n",
       "    </tr>\n",
       "    <tr>\n",
       "      <th>6</th>\n",
       "      <td>2</td>\n",
       "      <td>55 55 55 55 55 54 60 68 54 85 151 163 170 179 ...</td>\n",
       "      <td>Training</td>\n",
       "    </tr>\n",
       "    <tr>\n",
       "      <th>7</th>\n",
       "      <td>4</td>\n",
       "      <td>20 17 19 21 25 38 42 42 46 54 56 62 63 66 82 1...</td>\n",
       "      <td>Training</td>\n",
       "    </tr>\n",
       "    <tr>\n",
       "      <th>8</th>\n",
       "      <td>3</td>\n",
       "      <td>77 78 79 79 78 75 60 55 47 48 58 73 77 79 57 5...</td>\n",
       "      <td>Training</td>\n",
       "    </tr>\n",
       "    <tr>\n",
       "      <th>9</th>\n",
       "      <td>3</td>\n",
       "      <td>85 84 90 121 101 102 133 153 153 169 177 189 1...</td>\n",
       "      <td>Training</td>\n",
       "    </tr>\n",
       "  </tbody>\n",
       "</table>\n",
       "</div>"
      ],
      "text/plain": [
       "   emotion                                             pixels     usage\n",
       "0  emotion                                             pixels     Usage\n",
       "1        0  70 80 82 72 58 58 60 63 54 58 60 48 89 115 121...  Training\n",
       "2        0  151 150 147 155 148 133 111 140 170 174 182 15...  Training\n",
       "3        2  231 212 156 164 174 138 161 173 182 200 106 38...  Training\n",
       "4        4  24 32 36 30 32 23 19 20 30 41 21 22 32 34 21 1...  Training\n",
       "5        6  4 0 0 0 0 0 0 0 0 0 0 0 3 15 23 28 48 50 58 84...  Training\n",
       "6        2  55 55 55 55 55 54 60 68 54 85 151 163 170 179 ...  Training\n",
       "7        4  20 17 19 21 25 38 42 42 46 54 56 62 63 66 82 1...  Training\n",
       "8        3  77 78 79 79 78 75 60 55 47 48 58 73 77 79 57 5...  Training\n",
       "9        3  85 84 90 121 101 102 133 153 153 169 177 189 1...  Training"
      ]
     },
     "execution_count": 19,
     "metadata": {
      "tags": []
     },
     "output_type": "execute_result"
    }
   ],
   "source": [
    "# Data를 확인하는 부분\n",
    "filname = 'fer2013.csv' #저장한 학습데이터 이름\n",
    "label_map = ['Anger', 'Disgust', 'Fear', 'Happy', 'Sad', 'Surprise', 'Neutral']\n",
    "names=['emotion','pixels','usage']\n",
    "df=pd.read_csv('fer2013.csv',names=names, na_filter=False)\n",
    "im=df['pixels']\n",
    "df.head(10)"
   ]
  },
  {
   "cell_type": "code",
   "execution_count": 0,
   "metadata": {
    "_uuid": "bfde4d91ff367dfa6764202c1b309ea291fb833a",
    "colab": {},
    "colab_type": "code",
    "id": "4I9v0G54_qMg"
   },
   "outputs": [],
   "source": [
    "def getData(filname):\n",
    "    # images are 48x48\n",
    "    # N = 35887\n",
    "    Y = []\n",
    "    X = []\n",
    "    first = True\n",
    "    for line in open(filname):\n",
    "        if first:\n",
    "            first = False\n",
    "        else:\n",
    "            row = line.split(',')\n",
    "            Y.append(int(row[0]))\n",
    "            X.append([int(p) for p in row[1].split()])\n",
    "\n",
    "    X, Y = np.array(X) / 255.0, np.array(Y) #normalize하는 부분으로서 0과 1사이의 값으로 설정\n",
    "    return X, Y\n"
   ]
  },
  {
   "cell_type": "code",
   "execution_count": 0,
   "metadata": {
    "_uuid": "435d0e06553e3de3fd982e4a4a86c28018ac3913",
    "colab": {
     "base_uri": "https://localhost:8080/",
     "height": 35
    },
    "colab_type": "code",
    "executionInfo": {
     "elapsed": 29280,
     "status": "ok",
     "timestamp": 1575817091436,
     "user": {
      "displayName": "이승환",
      "photoUrl": "",
      "userId": "07608969336004037929"
     },
     "user_tz": -540
    },
    "id": "7vhYx-nV_qMn",
    "outputId": "8d200401-f85e-447a-d6ef-c8ca132f328d"
   },
   "outputs": [
    {
     "name": "stdout",
     "output_type": "stream",
     "text": [
      "7\n"
     ]
    }
   ],
   "source": [
    "X, Y = getData(filname)\n",
    "num_class = len(set(Y))\n",
    "print(num_class) #분류하고 싶은 Class의 종류가 7가지임을 확인한다."
   ]
  },
  {
   "cell_type": "code",
   "execution_count": 0,
   "metadata": {
    "_uuid": "f3c6bfb7aaf3c25ba7cdd5621e4d62b9eaa5502e",
    "colab": {},
    "colab_type": "code",
    "id": "oKZGnDT8_qMt"
   },
   "outputs": [],
   "source": [
    "# keras with tensorflow backend\n",
    "N, D = X.shape\n",
    "X = X.reshape(N, 48, 48, 1) # Input data는 48 x 48 x 1 의 픽셀정보를 가지고 있음"
   ]
  },
  {
   "cell_type": "code",
   "execution_count": 0,
   "metadata": {
    "_uuid": "be4faef86c3c5635697f10939547edd5c8760308",
    "colab": {},
    "colab_type": "code",
    "id": "D79xPm-k_qMx"
   },
   "outputs": [],
   "source": [
    "#학습 데이터에서 몇 개를 training으로 할지 / 몇 개를 Test데이터로 할지 결정하는 구간\n",
    "from sklearn.model_selection import train_test_split \n",
    "\n",
    "X_train, X_test, y_train, y_test = train_test_split(X, Y, test_size=0.1, random_state=0)\n",
    "y_train = (np.arange(num_class) == y_train[:, None]).astype(np.float32)\n",
    "y_test = (np.arange(num_class) == y_test[:, None]).astype(np.float32)"
   ]
  },
  {
   "cell_type": "code",
   "execution_count": 0,
   "metadata": {
    "_uuid": "c8eaecce539d06c983ed73142ac1484dbfa5e970",
    "colab": {
     "base_uri": "https://localhost:8080/",
     "height": 845
    },
    "colab_type": "code",
    "executionInfo": {
     "elapsed": 1175,
     "status": "ok",
     "timestamp": 1575817099042,
     "user": {
      "displayName": "이승환",
      "photoUrl": "",
      "userId": "07608969336004037929"
     },
     "user_tz": -540
    },
    "id": "r1ub6n12_qND",
    "outputId": "25550a1d-e8bf-44e5-fec6-2bd6a5bd8b2b"
   },
   "outputs": [
    {
     "name": "stdout",
     "output_type": "stream",
     "text": [
      "Model: \"sequential_2\"\n",
      "_________________________________________________________________\n",
      "Layer (type)                 Output Shape              Param #   \n",
      "=================================================================\n",
      "conv2d_7 (Conv2D)            (None, 48, 48, 64)        640       \n",
      "_________________________________________________________________\n",
      "conv2d_8 (Conv2D)            (None, 48, 48, 64)        36928     \n",
      "_________________________________________________________________\n",
      "batch_normalization_5 (Batch (None, 48, 48, 64)        256       \n",
      "_________________________________________________________________\n",
      "max_pooling2d_4 (MaxPooling2 (None, 24, 24, 64)        0         \n",
      "_________________________________________________________________\n",
      "conv2d_9 (Conv2D)            (None, 24, 24, 128)       73856     \n",
      "_________________________________________________________________\n",
      "conv2d_10 (Conv2D)           (None, 24, 24, 128)       147584    \n",
      "_________________________________________________________________\n",
      "batch_normalization_6 (Batch (None, 24, 24, 128)       512       \n",
      "_________________________________________________________________\n",
      "max_pooling2d_5 (MaxPooling2 (None, 12, 12, 128)       0         \n",
      "_________________________________________________________________\n",
      "conv2d_11 (Conv2D)           (None, 12, 12, 256)       295168    \n",
      "_________________________________________________________________\n",
      "conv2d_12 (Conv2D)           (None, 12, 12, 256)       590080    \n",
      "_________________________________________________________________\n",
      "batch_normalization_7 (Batch (None, 12, 12, 256)       1024      \n",
      "_________________________________________________________________\n",
      "max_pooling2d_6 (MaxPooling2 (None, 6, 6, 256)         0         \n",
      "_________________________________________________________________\n",
      "flatten_2 (Flatten)          (None, 9216)              0         \n",
      "_________________________________________________________________\n",
      "dense_3 (Dense)              (None, 128)               1179776   \n",
      "_________________________________________________________________\n",
      "batch_normalization_8 (Batch (None, 128)               512       \n",
      "_________________________________________________________________\n",
      "activation_3 (Activation)    (None, 128)               0         \n",
      "_________________________________________________________________\n",
      "dropout_2 (Dropout)          (None, 128)               0         \n",
      "_________________________________________________________________\n",
      "dense_4 (Dense)              (None, 7)                 903       \n",
      "_________________________________________________________________\n",
      "activation_4 (Activation)    (None, 7)                 0         \n",
      "=================================================================\n",
      "Total params: 2,327,239\n",
      "Trainable params: 2,326,087\n",
      "Non-trainable params: 1,152\n",
      "_________________________________________________________________\n"
     ]
    }
   ],
   "source": [
    "#layer를 쌓는 과정으로 직접 수정해보았음.\n",
    "def my_model():\n",
    "    model = Sequential()\n",
    "    input_shape = (48,48,1)\n",
    "    #model.add(Conv2D(64, (5, 5), input_shape=input_shape,activation='relu', padding='same')) \n",
    "    #model.add(Conv2D(64, (5, 5), activation='relu', padding='same'))\n",
    "    model.add(Conv2D(64, (3, 3), input_shape=input_shape,activation='relu', padding='same')) \n",
    "    model.add(Conv2D(64, (3, 3), activation='relu', padding='same'))\n",
    "\n",
    "    model.add(BatchNormalization())\n",
    "    model.add(MaxPooling2D(pool_size=(2, 2)))\n",
    "\n",
    "    #model.add(Conv2D(128, (5, 5),activation='relu',padding='same'))\n",
    "    #model.add(Conv2D(128, (5, 5),activation='relu',padding='same'))\n",
    "    model.add(Conv2D(128, (3, 3),activation='relu',padding='same'))\n",
    "    model.add(Conv2D(128, (3, 3),activation='relu',padding='same'))\n",
    "    model.add(BatchNormalization())\n",
    "    model.add(MaxPooling2D(pool_size=(2, 2)))\n",
    "\n",
    "    model.add(Conv2D(256, (3, 3),activation='relu',padding='same'))\n",
    "    model.add(Conv2D(256, (3, 3),activation='relu',padding='same'))\n",
    "    model.add(BatchNormalization())\n",
    "    model.add(MaxPooling2D(pool_size=(2, 2)))\n",
    "\n",
    "    model.add(Flatten())\n",
    "    model.add(Dense(128))\n",
    "    model.add(BatchNormalization())\n",
    "    model.add(Activation('relu'))\n",
    "    #model.add(Dropout(0.2))\n",
    "    model.add(Dropout(0.4))\n",
    "    model.add(Dense(7))\n",
    "    model.add(Activation('softmax'))\n",
    "    \n",
    "    model.compile(loss='categorical_crossentropy', metrics=['accuracy'],optimizer='adam')\n",
    "    # UNCOMMENT THIS TO VIEW THE ARCHITECTURE\n",
    "    #model.summary()\n",
    "    \n",
    "    return model\n",
    "model=my_model()\n",
    "model.summary()"
   ]
  },
  {
   "cell_type": "code",
   "execution_count": 0,
   "metadata": {
    "_uuid": "5004be413385dbdf6c3967d34c59e541095ea667",
    "colab": {
     "base_uri": "https://localhost:8080/",
     "height": 755
    },
    "colab_type": "code",
    "executionInfo": {
     "elapsed": 880874,
     "status": "ok",
     "timestamp": 1575817987315,
     "user": {
      "displayName": "이승환",
      "photoUrl": "",
      "userId": "07608969336004037929"
     },
     "user_tz": -540
    },
    "id": "cAARRMBv_qNJ",
    "outputId": "45beb175-1f45-4a75-8e42-c48c3d061eb2"
   },
   "outputs": [
    {
     "name": "stdout",
     "output_type": "stream",
     "text": [
      "Train on 32298 samples, validate on 3589 samples\n",
      "Epoch 1/20\n",
      "32298/32298 [==============================] - 45s 1ms/step - loss: 1.5690 - acc: 0.4041 - val_loss: 1.6013 - val_acc: 0.3767\n",
      "Epoch 2/20\n",
      "32298/32298 [==============================] - 43s 1ms/step - loss: 1.1904 - acc: 0.5480 - val_loss: 1.2533 - val_acc: 0.5049\n",
      "Epoch 3/20\n",
      "32298/32298 [==============================] - 43s 1ms/step - loss: 1.0532 - acc: 0.6066 - val_loss: 1.2015 - val_acc: 0.5403\n",
      "Epoch 4/20\n",
      "32298/32298 [==============================] - 43s 1ms/step - loss: 0.9504 - acc: 0.6461 - val_loss: 1.1166 - val_acc: 0.5851\n",
      "Epoch 5/20\n",
      "32298/32298 [==============================] - 43s 1ms/step - loss: 0.8464 - acc: 0.6882 - val_loss: 1.0779 - val_acc: 0.5993\n",
      "Epoch 6/20\n",
      "32298/32298 [==============================] - 43s 1ms/step - loss: 0.7211 - acc: 0.7345 - val_loss: 1.1121 - val_acc: 0.6057\n",
      "Epoch 7/20\n",
      "32298/32298 [==============================] - 43s 1ms/step - loss: 0.5926 - acc: 0.7828 - val_loss: 1.2144 - val_acc: 0.5924\n",
      "Epoch 8/20\n",
      "32298/32298 [==============================] - 43s 1ms/step - loss: 0.4494 - acc: 0.8373 - val_loss: 1.2562 - val_acc: 0.5871\n",
      "Epoch 9/20\n",
      "32298/32298 [==============================] - 43s 1ms/step - loss: 0.3343 - acc: 0.8810 - val_loss: 1.5610 - val_acc: 0.6055\n",
      "Epoch 10/20\n",
      "32298/32298 [==============================] - 43s 1ms/step - loss: 0.2543 - acc: 0.9099 - val_loss: 1.5069 - val_acc: 0.6261\n",
      "Epoch 11/20\n",
      "32298/32298 [==============================] - 43s 1ms/step - loss: 0.1972 - acc: 0.9329 - val_loss: 1.8148 - val_acc: 0.5954\n",
      "Epoch 12/20\n",
      "32298/32298 [==============================] - 43s 1ms/step - loss: 0.1727 - acc: 0.9410 - val_loss: 1.7741 - val_acc: 0.5974\n",
      "Epoch 13/20\n",
      "32298/32298 [==============================] - 43s 1ms/step - loss: 0.1371 - acc: 0.9546 - val_loss: 1.8950 - val_acc: 0.6133\n",
      "Epoch 14/20\n",
      "32298/32298 [==============================] - 43s 1ms/step - loss: 0.1283 - acc: 0.9568 - val_loss: 1.8236 - val_acc: 0.5982\n",
      "Epoch 15/20\n",
      "32298/32298 [==============================] - 43s 1ms/step - loss: 0.1259 - acc: 0.9588 - val_loss: 1.8204 - val_acc: 0.5949\n",
      "Epoch 16/20\n",
      "32298/32298 [==============================] - 43s 1ms/step - loss: 0.1191 - acc: 0.9600 - val_loss: 2.0500 - val_acc: 0.5993\n",
      "Epoch 17/20\n",
      "32298/32298 [==============================] - 43s 1ms/step - loss: 0.1042 - acc: 0.9651 - val_loss: 2.0954 - val_acc: 0.6049\n",
      "Epoch 18/20\n",
      "32298/32298 [==============================] - 43s 1ms/step - loss: 0.1038 - acc: 0.9640 - val_loss: 1.9457 - val_acc: 0.6191\n",
      "Epoch 19/20\n",
      "32298/32298 [==============================] - 43s 1ms/step - loss: 0.0943 - acc: 0.9678 - val_loss: 2.0574 - val_acc: 0.6177\n",
      "Epoch 20/20\n",
      "32298/32298 [==============================] - 43s 1ms/step - loss: 0.0792 - acc: 0.9733 - val_loss: 2.1999 - val_acc: 0.6152\n"
     ]
    }
   ],
   "source": [
    "#실직적으로 학습하는 부분(수정전에는 약 60%의 정확도를 보여줌)\n",
    "path_model='model_filter.h5' # save model at this location after each epoch\n",
    "K.tensorflow_backend.clear_session() # destroys the current graph and builds a new one\n",
    "model=my_model() # create the model\n",
    "K.set_value(model.optimizer.lr,1e-3) # set the learning rate\n",
    "# fit the model\n",
    "h=model.fit(x=X_train,     \n",
    "            y=y_train, \n",
    "            batch_size=64, \n",
    "            epochs=20, \n",
    "            verbose=1, \n",
    "            validation_data=(X_test,y_test),\n",
    "            shuffle=True,\n",
    "            callbacks=[\n",
    "                ModelCheckpoint(filepath=path_model),\n",
    "            ]\n",
    "            )"
   ]
  },
  {
   "cell_type": "code",
   "execution_count": 0,
   "metadata": {
    "_uuid": "0c7e2abb2a89f4df0d28de0a49db1f60c84fbcf0",
    "colab": {
     "base_uri": "https://localhost:8080/",
     "height": 35
    },
    "colab_type": "code",
    "executionInfo": {
     "elapsed": 1651,
     "status": "ok",
     "timestamp": 1575702933697,
     "user": {
      "displayName": "이승환",
      "photoUrl": "",
      "userId": "07608969336004037929"
     },
     "user_tz": -540
    },
    "id": "6NOan5oj_qNP",
    "outputId": "28948f45-1783-4596-c352-f64ad348f9fa"
   },
   "outputs": [
    {
     "name": "stdout",
     "output_type": "stream",
     "text": [
      "[0 1 2 3 4 5 6]\n"
     ]
    }
   ],
   "source": [
    "objects = ('angry', 'disgust', 'fear', 'happy', 'sad', 'surprise', 'neutral')\n",
    "y_pos = np.arange(len(objects))\n",
    "print(y_pos)"
   ]
  },
  {
   "cell_type": "code",
   "execution_count": 0,
   "metadata": {
    "_uuid": "077d44e8bbb7549a09682eb09c417903bf2fd935",
    "colab": {},
    "colab_type": "code",
    "id": "FC-ZI1Ce_qNY"
   },
   "outputs": [],
   "source": [
    "def emotion_analysis(emotions):\n",
    "    objects = ['angry', 'disgust', 'fear', 'happy', 'sad', 'surprise', 'neutral']\n",
    "    y_pos = np.arange(len(objects))\n",
    "    plt.bar(y_pos, emotions, align='center', alpha=0.9)\n",
    "    plt.tick_params(axis='x', which='both', pad=10,width=4,length=10)\n",
    "    plt.xticks(y_pos, objects)\n",
    "    plt.ylabel('percentage')\n",
    "    plt.title('emotion')\n",
    "    \n",
    "plt.show()"
   ]
  },
  {
   "cell_type": "code",
   "execution_count": 0,
   "metadata": {
    "_uuid": "241291244491cc1e84a45ecb0da66c1c09a4cd7a",
    "colab": {
     "base_uri": "https://localhost:8080/",
     "height": 35
    },
    "colab_type": "code",
    "executionInfo": {
     "elapsed": 3102,
     "status": "ok",
     "timestamp": 1575702942274,
     "user": {
      "displayName": "이승환",
      "photoUrl": "",
      "userId": "07608969336004037929"
     },
     "user_tz": -540
    },
    "id": "Wsoz3271_qNf",
    "outputId": "2bdbde32-a3ac-4ac9-e4b8-49451d355fe6"
   },
   "outputs": [
    {
     "data": {
      "text/plain": [
       "(3589, 7)"
      ]
     },
     "execution_count": 22,
     "metadata": {
      "tags": []
     },
     "output_type": "execute_result"
    }
   ],
   "source": [
    "y_pred=model.predict(X_test)\n",
    "#print(y_pred)\n",
    "y_test.shape"
   ]
  },
  {
   "cell_type": "code",
   "execution_count": 0,
   "metadata": {
    "_uuid": "0e97d2cb00640d2bfc4d4de9456249e893f72cc2",
    "colab": {},
    "colab_type": "code",
    "id": "ix8Oy1ln_qNl"
   },
   "outputs": [],
   "source": [
    "#import seaborn as sn\n",
    "#import pandas as pd\n",
    "#import matplotlib.pyplot as plt\n",
    "#import numpy as np\n",
    "#from sklearn.metrics import confusion_matrix\n",
    "#%matplotlib inline\n",
    "#cm = confusion_matrix(np.where(y_test == 1)[1], y_pred)\n",
    "#cm = cm.astype('float') / cm.sum(axis=1)[:, np.newaxis]\n",
    "#df_cm = pd.DataFrame(cm, index = [i for i in \"0123456\"],\n",
    "                  #columns = [i for i in \"0123456\"])\n",
    "#plt.figure(figsize = (20,15))\n",
    "#sn.heatmap(df_cm, annot=True)"
   ]
  },
  {
   "cell_type": "markdown",
   "metadata": {
    "colab_type": "text",
    "id": "WzlLreNS_qNr"
   },
   "source": [
    "**Real Time Expression Prediction**"
   ]
  },
  {
   "cell_type": "code",
   "execution_count": 0,
   "metadata": {
    "_uuid": "70fc48e66d18c54ba629e625ad8def5ad2d93fa6",
    "colab": {
     "base_uri": "https://localhost:8080/",
     "height": 348
    },
    "colab_type": "code",
    "executionInfo": {
     "elapsed": 2255,
     "status": "ok",
     "timestamp": 1575703398841,
     "user": {
      "displayName": "이승환",
      "photoUrl": "",
      "userId": "07608969336004037929"
     },
     "user_tz": -540
    },
    "id": "Ez10W_y1_qNu",
    "outputId": "2fdad45c-d530-4dcf-cd11-d4122a2af6cf"
   },
   "outputs": [
    {
     "name": "stderr",
     "output_type": "stream",
     "text": [
      "/usr/local/lib/python3.6/dist-packages/keras_preprocessing/image/utils.py:104: UserWarning: grayscale is deprecated. Please use color_mode = \"grayscale\"\n",
      "  warnings.warn('grayscale is deprecated. Please use '\n"
     ]
    },
    {
     "data": {
      "image/png": "[encoded data removed]",
      "text/plain": [
       "<Figure size 432x288 with 1 Axes>"
      ]
     },
     "metadata": {
      "tags": []
     },
     "output_type": "display_data"
    },
    {
     "name": "stdout",
     "output_type": "stream",
     "text": [
      "Expression Prediction: happy\n"
     ]
    }
   ],
   "source": [
    "from skimage import io\n",
    "img = image.load_img('happy.PNG', grayscale=True, target_size=(48, 48))\n",
    "show_img=image.load_img('happy.PNG', grayscale=False, target_size=(200, 200))\n",
    "x = image.img_to_array(img)\n",
    "x = np.expand_dims(x, axis = 0)\n",
    "\n",
    "x /= 255\n",
    "\n",
    "custom = model.predict(x)\n",
    "#print(custom[0])\n",
    "emotion_analysis(custom[0])\n",
    "\n",
    "x = np.array(x, 'float32')\n",
    "x = x.reshape([48, 48]);\n",
    "\n",
    "plt.gray()\n",
    "plt.imshow(show_img)\n",
    "plt.show()\n",
    "\n",
    "m=0.000000000000000000001\n",
    "a=custom[0]\n",
    "for i in range(0,len(a)):\n",
    "    if a[i]>m:\n",
    "        m=a[i]\n",
    "        ind=i\n",
    "        \n",
    "print('Expression Prediction:',objects[ind])\n",
    "        "
   ]
  },
  {
   "cell_type": "code",
   "execution_count": 0,
   "metadata": {
    "_uuid": "82db72b60f80eb18474bf880369791cf346c9749",
    "colab": {},
    "colab_type": "code",
    "id": "yJopuhHR_qN2"
   },
   "outputs": [],
   "source": [
    "from skimage import io\n",
    "img = image.load_img('../input/testimages/wallpaper2you_443897.jpg', grayscale=True, target_size=(48, 48))\n",
    "show_img=image.load_img('../input/testimages/wallpaper2you_443897.jpg', grayscale=False, target_size=(200, 200))\n",
    "x = image.img_to_array(img)\n",
    "x = np.expand_dims(x, axis = 0)\n",
    "\n",
    "x /= 255\n",
    "\n",
    "custom = model.predict(x)\n",
    "#print(custom[0])\n",
    "emotion_analysis(custom[0])\n",
    "\n",
    "x = np.array(x, 'float32')\n",
    "x = x.reshape([48, 48]);\n",
    "\n",
    "plt.gray()\n",
    "plt.imshow(show_img)\n",
    "plt.show()\n",
    "\n",
    "m=0.000000000000000000001\n",
    "a=custom[0]\n",
    "for i in range(0,len(a)):\n",
    "    if a[i]>m:\n",
    "        m=a[i]\n",
    "        ind=i\n",
    "        \n",
    "print('Expression Prediction:',objects[ind])"
   ]
  },
  {
   "cell_type": "markdown",
   "metadata": {
    "colab_type": "text",
    "id": "BOs3Oxkz_qN7"
   },
   "source": [
    "**Live Demo of Production Level Project**\n",
    "\n",
    "[Facial Expression Detection Web App](https://faceai.herokuapp.com/)"
   ]
  }
 ],
 "metadata": {
  "accelerator": "GPU",
  "colab": {
   "collapsed_sections": [],
   "name": "facial-expression-detection-cnn.ipynb의 사본",
   "provenance": [
    {
     "file_id": "1pYwpEJhkSt3MGhjA2QNmzFa1W8kjD-YZ",
     "timestamp": 1575704380168
    }
   ]
  },
  "kernelspec": {
   "display_name": "Python 3",
   "language": "python",
   "name": "python3"
  },
  "language_info": {
   "codemirror_mode": {
    "name": "ipython",
    "version": 3
   },
   "file_extension": ".py",
   "mimetype": "text/x-python",
   "name": "python",
   "nbconvert_exporter": "python",
   "pygments_lexer": "ipython3",
   "version": "3.7.3"
  }
 },
 "nbformat": 4,
 "nbformat_minor": 1
}
