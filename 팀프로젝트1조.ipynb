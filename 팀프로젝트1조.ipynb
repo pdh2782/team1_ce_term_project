{
 "cells": [
  {
   "cell_type": "markdown",
   "metadata": {},
   "source": [
    "## 1.\tDetection and recognition of objects (including human)\n",
    "## 3.\tDetection and recognition of human faces (using MTCNN, YOLO or whatever you would like to use)"
   ]
  },
  {
   "cell_type": "markdown",
   "metadata": {},
   "source": [
    "#  1-1. 유튜브에서 v1파일 업로드"
   ]
  },
  {
   "cell_type": "code",
   "execution_count": null,
   "metadata": {},
   "outputs": [],
   "source": [
    "#미리 pip install pytube 실행해야함.\n",
    "from pytube import Playlist\n",
    "p1 = Playlist('https://www.youtube.com/playlist?list=PL69GGs-Tg_mu-GV9k4t3jK-3hEvAQFtZn')#재생목록 url\n",
    "p1.download_all('./videos')#저장위치"
   ]
  },
  {
   "cell_type": "markdown",
   "metadata": {},
   "source": [
    "# 1-2.동영상에 yolo적용"
   ]
  },
  {
   "cell_type": "code",
   "execution_count": null,
   "metadata": {},
   "outputs": [],
   "source": [
    "from imageai.Detection import VideoObjectDetection\n",
    "import os\n",
    "\n",
    "execution_path = os.getcwd()\n",
    "\n",
    "detector = VideoObjectDetection()\n",
    "detector.setModelTypeAsYOLOv3()\n",
    "detector.setModelPath( os.path.join(execution_path , \"models/yolo.h5\"))\n",
    "detector.loadModel()\n",
    "\n",
    "video_path = detector.detectObjectsFromVideo(\n",
    "    input_file_path=os.path.join(execution_path, \"./videos/1V1-face.mp4\"), #input+경로\n",
    "    output_file_path=os.path.join(execution_path, \"V1\"), #output\n",
    "    frames_per_second=20, log_progress=True)\n",
    "print(video_path)"
   ]
  },
  {
   "cell_type": "markdown",
   "metadata": {},
   "source": [
    "#  3-1. MTCNN으로 얼굴인식"
   ]
  },
  {
   "cell_type": "code",
   "execution_count": null,
   "metadata": {},
   "outputs": [],
   "source": [
    "import cv2\n",
    "import numpy as np\n",
    "from mtcnn.mtcnn import MTCNN\n",
    "\n",
    "detector = MTCNN()\n",
    "video_file_to_save =\"./videos/V1_saved.mp4\"\n",
    "cap = cv2.VideoCapture('./videos/1V1-face.mp4')\n",
    "\n",
    "if cap.isOpened():\n",
    "    fps = 25.40 # 초당프레임수\n",
    "    fourcc = cv2.VideoWriter_fourcc(*'MPG4') # 인코딩포맷\n",
    "    width = cap.get(cv2.CAP_PROP_FRAME_WIDTH)\n",
    "    height = cap.get(cv2.CAP_PROP_FRAME_HEIGHT)\n",
    "    size = (int(width), int(height)) # 프레임크기\n",
    "    out = cv2.VideoWriter(video_file_to_save, fourcc, fps, size) #VideoWriter object\n",
    "    while True: \n",
    "    \n",
    "        ret, frame = cap.read()\n",
    "    \n",
    "        result = detector.detect_faces(frame)\n",
    "        if result != []:\n",
    "            for person in result:\n",
    "                bounding_box = person['box']\n",
    "                keypoints = person['keypoints']\n",
    "    \n",
    "                cv2.rectangle(frame,\n",
    "                              (bounding_box[0], bounding_box[1]),\n",
    "                              (bounding_box[0]+bounding_box[2], bounding_box[1] + bounding_box[3]),\n",
    "                              (0,155,255),\n",
    "                              2)\n",
    "    \n",
    "                cv2.circle(frame,(keypoints['left_eye']), 2, (0,155,255), 2)\n",
    "                cv2.circle(frame,(keypoints['right_eye']), 2, (0,155,255), 2)\n",
    "                cv2.circle(frame,(keypoints['nose']), 2, (0,155,255), 2)\n",
    "                cv2.circle(frame,(keypoints['mouth_left']), 2, (0,155,255), 2)\n",
    "                cv2.circle(frame,(keypoints['mouth_right']), 2, (0,155,255), 2)\n",
    "    #display resulting frame\n",
    "        if ret:\n",
    "            cv2.imshow('Video', frame)\n",
    "            out.write(frame)\n",
    "            if cv2.waitKey(1) == 13: #13 은 엔터키\n",
    "                break\n",
    "        else:\n",
    "            print(\"no frame\")\n",
    "            break\n",
    "    out.release()\n",
    "else:\n",
    "    print(\"can't open file\")\n",
    "    # 얼굴에 직사각형 그리기\n",
    "       \n",
    "\n",
    "cap.release()\n",
    "cv2.destroyAllWindows()"
   ]
  },
  {
   "cell_type": "markdown",
   "metadata": {},
   "source": [
    "# (c) yolo를 이용한 동영상분석"
   ]
  },
  {
   "cell_type": "code",
   "execution_count": null,
   "metadata": {},
   "outputs": [],
   "source": [
    "from imageai.Detection import VideoObjectDetection\n",
    "import os\n",
    "from matplotlib import pyplot as plt\n",
    "\n",
    "\n",
    "execution_path = os.getcwd()\n",
    "\n",
    "color_index = {'bus': 'red', 'handbag': 'steelblue', 'giraffe': 'orange', 'spoon': 'gray', 'cup': 'yellow', 'chair': 'green', 'elephant': 'pink', 'truck': 'indigo', 'motorcycle': 'azure', 'refrigerator': 'gold', 'keyboard': 'violet', 'cow': 'magenta', 'mouse': 'crimson', 'sports ball': 'raspberry', 'horse': 'maroon', 'cat': 'orchid', 'boat': 'slateblue', 'hot dog': 'navy', 'apple': 'cobalt', 'parking meter': 'aliceblue', 'sandwich': 'skyblue', 'skis': 'deepskyblue', 'microwave': 'peacock', 'knife': 'cadetblue', 'baseball bat': 'cyan', 'oven': 'lightcyan', 'carrot': 'coldgrey', 'scissors': 'seagreen', 'sheep': 'deepgreen', 'toothbrush': 'cobaltgreen', 'fire hydrant': 'limegreen', 'remote': 'forestgreen', 'bicycle': 'olivedrab', 'toilet': 'ivory', 'tv': 'khaki', 'skateboard': 'palegoldenrod', 'train': 'cornsilk', 'zebra': 'wheat', 'tie': 'burlywood', 'orange': 'melon', 'bird': 'bisque', 'dining table': 'chocolate', 'hair drier': 'sandybrown', 'cell phone': 'sienna', 'sink': 'coral', 'bench': 'salmon', 'bottle': 'brown', 'car': 'silver', 'bowl': 'maroon', 'tennis racket': 'palevilotered', 'airplane': 'lavenderblush', 'pizza': 'hotpink', 'umbrella': 'deeppink', 'bear': 'plum', 'fork': 'purple', 'laptop': 'indigo', 'vase': 'mediumpurple', 'baseball glove': 'slateblue', 'traffic light': 'mediumblue', 'bed': 'navy', 'broccoli': 'royalblue', 'backpack': 'slategray', 'snowboard': 'skyblue', 'kite': 'cadetblue', 'teddy bear': 'peacock', 'clock': 'lightcyan', 'wine glass': 'teal', 'frisbee': 'aquamarine', 'donut': 'mincream', 'suitcase': 'seagreen', 'dog': 'springgreen', 'banana': 'emeraldgreen', 'person': 'honeydew', 'surfboard': 'palegreen', 'cake': 'sapgreen', 'book': 'lawngreen', 'potted plant': 'greenyellow', 'toaster': 'ivory', 'stop sign': 'beige', 'couch': 'khaki'}\n",
    "\n",
    "\n",
    "resized = False\n",
    "\n",
    "def forFrame(frame_number, output_array, output_count, returned_frame):\n",
    "\n",
    "    plt.clf()\n",
    "\n",
    "    this_colors = []\n",
    "    labels = []\n",
    "    sizes = []\n",
    "\n",
    "    counter = 0\n",
    "\n",
    "    for eachItem in output_count:\n",
    "        counter += 1\n",
    "        labels.append(eachItem + \" = \" + str(output_count[eachItem]))\n",
    "        sizes.append(output_count[eachItem])\n",
    "        this_colors.append(color_index[eachItem])\n",
    "\n",
    "    global resized\n",
    "\n",
    "#     if (resized == False):\n",
    "#         manager = plt.get_current_fig_manager()\n",
    "#         manager.resize(width=1000, height=500)\n",
    "#         resized = True\n",
    "\n",
    "    plt.subplot(1, 2, 1)\n",
    "    plt.title(\"Frame : \" + str(frame_number))\n",
    "    plt.axis(\"off\")\n",
    "    plt.imshow(returned_frame, interpolation=\"none\")\n",
    "\n",
    "    plt.subplot(1, 2, 2)\n",
    "    plt.title(\"Analysis: \" + str(frame_number))\n",
    "    plt.pie(sizes, labels=labels, colors=this_colors, shadow=True, startangle=140, autopct=\"%1.1f%%\")\n",
    "\n",
    "    plt.pause(0.01)\n",
    "\n",
    "\n",
    "\n",
    "video_detector = VideoObjectDetection()\n",
    "video_detector.setModelTypeAsYOLOv3()\n",
    "video_detector.setModelPath(os.path.join(execution_path, \"models/yolo.h5\"))\n",
    "video_detector.loadModel()\n",
    "plt.figure(figsize=(10,5))\n",
    "plt.show()\n",
    "\n",
    "video_detector.detectObjectsFromVideo(input_file_path=os.path.join(execution_path, \"./videos/V2.mp4\"), \n",
    "                                      output_file_path=os.path.join(execution_path, 'name') ,  \n",
    "                                      frames_per_second=20, per_frame_function=forFrame,  \n",
    "                                      minimum_percentage_probability=50, \n",
    "                                      return_detected_frame=True)"
   ]
  },
  {
   "cell_type": "code",
   "execution_count": null,
   "metadata": {},
   "outputs": [],
   "source": []
  }
 ],
 "metadata": {
  "kernelspec": {
   "display_name": "Python 3",
   "language": "python",
   "name": "python3"
  },
  "language_info": {
   "codemirror_mode": {
    "name": "ipython",
    "version": 3
   },
   "file_extension": ".py",
   "mimetype": "text/x-python",
   "name": "python",
   "nbconvert_exporter": "python",
   "pygments_lexer": "ipython3",
   "version": "3.7.3"
  }
 },
 "nbformat": 4,
 "nbformat_minor": 2
}
